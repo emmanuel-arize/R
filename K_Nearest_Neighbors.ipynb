{
 "cells": [
  {
   "cell_type": "markdown",
   "metadata": {},
   "source": [
    "<h1>INSTANCE-BASED LEARNING</h1>\n",
    "<h2>From the book: Machine Learning by Tom M. Mitchell page 230</h2>\n",
    "<img src=\"images/inst.jpg\">"
   ]
  },
  {
   "cell_type": "markdown",
   "metadata": {},
   "source": [
    "<h1 title='K-Nearest Neighbour'>K-NN</h1>\n",
    "\n",
    "The KNN is one of the simplest machine learning algorithms and an example of instance-based learning, where new instances are predicted based on stored instances. k-nearest neighbors algorithm (k-NN) is a supervised nonparametric method used for both classification (data with discrete labels) and regression (data with continuous labels) but  widely used for classification problems. At the heart of this method is the K ( The number of nearest neighbors to look for) parameter. Unlike other supervised learning algorithms, K-NN does not learn an explicit mapping f from the training data which will used in making predictions or classifying new instances but instead with a predefined K, KNN finds the K training samples that are closest to the new instance based some distance or similarity function such as Euclidean (commonly used), Manhattan, Mahalanobis, cosine similarity function and predict the label from these K closest training example.\n",
    "\n",
    "<h1 title='K-NN USED AS A CLASSIFIER'>In classification settings</h1> \n",
    "Once k is selected, given a new instance the method assigns a label to a new instance (unlabeled vector) based on the k closest training data points,  that is a new instance is classified by assigning the label which is most frequent or common among the k training samples nearest to that new instance.\n",
    "\n",
    "<h1 title='K-NN USED AS A REGRESSOR'>In regression </h1>\n",
    "assign the average response (Average the values of k nearest neighbors)  of the of k nearest neighbors"
   ]
  },
  {
   "cell_type": "markdown",
   "metadata": {
    "ExecuteTime": {
     "end_time": "2020-08-03T09:38:58.862276Z",
     "start_time": "2020-08-03T09:38:58.783Z"
    }
   },
   "source": [
    "<h1> K-Nearest Neighbors Algorithm </h1>\n",
    "<ul>\n",
    "    <li>Determine parameter K </li>\n",
    "    <li>Compute the distance of the new instance from each training point </li>\n",
    "   <li>Sort the distances in ascending (or descending) order </li>\n",
    "<li>Select the K nearest neighbors based on the sorted distances </li>\n",
    "<li>Use majority rule (for classification) or averaging (for regression)</li>\n",
    "</ul>\n",
    "\n",
    "<h1>NOTE</h1>\n",
    "The choice of distance or similarity function depends on the type of features in the dataset\n",
    "\n",
    "The experimental results from [Effects of Distance Measure Choice on KNN Classifier Performance - A Review](https://www.ncbi.nlm.nih.gov/pmc/articles/PMC4978658/) show that the performance of KNN classifier depends significantly on the distance measure used. The results also show that some distance measure are less affected by added noise.\n"
   ]
  },
  {
   "cell_type": "code",
   "execution_count": 1,
   "metadata": {
    "ExecuteTime": {
     "end_time": "2020-08-23T03:54:11.094719Z",
     "start_time": "2020-08-23T03:54:07.672Z"
    }
   },
   "outputs": [
    {
     "name": "stderr",
     "output_type": "stream",
     "text": [
      "Warning message:\n",
      "\"package 'caret' was built under R version 3.5.3\"\n",
      "Loading required package: lattice\n",
      "\n",
      "Warning message:\n",
      "\"package 'class' was built under R version 3.5.3\"\n"
     ]
    }
   ],
   "source": [
    "library(ggplot2)\n",
    "library(caret)\n",
    "library(class)"
   ]
  },
  {
   "cell_type": "markdown",
   "metadata": {},
   "source": [
    "<h2>loading the iris dataset</h2>"
   ]
  },
  {
   "cell_type": "code",
   "execution_count": 2,
   "metadata": {
    "ExecuteTime": {
     "end_time": "2020-08-23T03:54:13.750853Z",
     "start_time": "2020-08-23T03:54:13.415Z"
    }
   },
   "outputs": [],
   "source": [
    "data(iris)"
   ]
  },
  {
   "cell_type": "markdown",
   "metadata": {},
   "source": [
    "# displaying the first two observations"
   ]
  },
  {
   "cell_type": "code",
   "execution_count": 3,
   "metadata": {
    "ExecuteTime": {
     "end_time": "2020-08-23T03:54:13.965956Z",
     "start_time": "2020-08-23T03:54:13.908Z"
    }
   },
   "outputs": [
    {
     "data": {
      "text/html": [
       "<table>\n",
       "<thead><tr><th scope=col>Sepal.Length</th><th scope=col>Sepal.Width</th><th scope=col>Petal.Length</th><th scope=col>Petal.Width</th><th scope=col>Species</th></tr></thead>\n",
       "<tbody>\n",
       "\t<tr><td>5.1   </td><td>3.5   </td><td>1.4   </td><td>0.2   </td><td>setosa</td></tr>\n",
       "\t<tr><td>4.9   </td><td>3.0   </td><td>1.4   </td><td>0.2   </td><td>setosa</td></tr>\n",
       "</tbody>\n",
       "</table>\n"
      ],
      "text/latex": [
       "\\begin{tabular}{r|lllll}\n",
       " Sepal.Length & Sepal.Width & Petal.Length & Petal.Width & Species\\\\\n",
       "\\hline\n",
       "\t 5.1    & 3.5    & 1.4    & 0.2    & setosa\\\\\n",
       "\t 4.9    & 3.0    & 1.4    & 0.2    & setosa\\\\\n",
       "\\end{tabular}\n"
      ],
      "text/markdown": [
       "\n",
       "Sepal.Length | Sepal.Width | Petal.Length | Petal.Width | Species | \n",
       "|---|---|\n",
       "| 5.1    | 3.5    | 1.4    | 0.2    | setosa | \n",
       "| 4.9    | 3.0    | 1.4    | 0.2    | setosa | \n",
       "\n",
       "\n"
      ],
      "text/plain": [
       "  Sepal.Length Sepal.Width Petal.Length Petal.Width Species\n",
       "1 5.1          3.5         1.4          0.2         setosa \n",
       "2 4.9          3.0         1.4          0.2         setosa "
      ]
     },
     "metadata": {},
     "output_type": "display_data"
    }
   ],
   "source": [
    "head(iris,2)"
   ]
  },
  {
   "cell_type": "markdown",
   "metadata": {},
   "source": [
    "\n",
    "# structure of the dataset"
   ]
  },
  {
   "cell_type": "code",
   "execution_count": 4,
   "metadata": {
    "ExecuteTime": {
     "end_time": "2020-08-23T03:54:14.617495Z",
     "start_time": "2020-08-23T03:54:14.555Z"
    }
   },
   "outputs": [
    {
     "name": "stdout",
     "output_type": "stream",
     "text": [
      "'data.frame':\t150 obs. of  5 variables:\n",
      " $ Sepal.Length: num  5.1 4.9 4.7 4.6 5 5.4 4.6 5 4.4 4.9 ...\n",
      " $ Sepal.Width : num  3.5 3 3.2 3.1 3.6 3.9 3.4 3.4 2.9 3.1 ...\n",
      " $ Petal.Length: num  1.4 1.4 1.3 1.5 1.4 1.7 1.4 1.5 1.4 1.5 ...\n",
      " $ Petal.Width : num  0.2 0.2 0.2 0.2 0.2 0.4 0.3 0.2 0.2 0.1 ...\n",
      " $ Species     : Factor w/ 3 levels \"setosa\",\"versicolor\",..: 1 1 1 1 1 1 1 1 1 1 ...\n"
     ]
    }
   ],
   "source": [
    "str(iris)"
   ]
  },
  {
   "cell_type": "markdown",
   "metadata": {},
   "source": [
    "\n",
    "# the data contain 150 observations (instances) and 4 variables(features) and a target variable"
   ]
  },
  {
   "cell_type": "code",
   "execution_count": 5,
   "metadata": {
    "ExecuteTime": {
     "end_time": "2020-08-23T03:54:15.487296Z",
     "start_time": "2020-08-23T03:54:15.429Z"
    }
   },
   "outputs": [
    {
     "name": "stdout",
     "output_type": "stream",
     "text": [
      "  Sepal.Length    Sepal.Width     Petal.Length    Petal.Width   \n",
      " Min.   :4.300   Min.   :2.000   Min.   :1.000   Min.   :0.100  \n",
      " 1st Qu.:5.100   1st Qu.:2.800   1st Qu.:1.600   1st Qu.:0.300  \n",
      " Median :5.800   Median :3.000   Median :4.350   Median :1.300  \n",
      " Mean   :5.843   Mean   :3.057   Mean   :3.758   Mean   :1.199  \n",
      " 3rd Qu.:6.400   3rd Qu.:3.300   3rd Qu.:5.100   3rd Qu.:1.800  \n",
      " Max.   :7.900   Max.   :4.400   Max.   :6.900   Max.   :2.500  \n",
      "       Species  \n",
      " setosa    :50  \n",
      " versicolor:50  \n",
      " virginica :50  \n",
      "                \n",
      "                \n",
      "                \n"
     ]
    }
   ],
   "source": [
    "print(summary(iris))"
   ]
  },
  {
   "cell_type": "code",
   "execution_count": 6,
   "metadata": {
    "ExecuteTime": {
     "end_time": "2020-08-23T03:54:15.547294Z",
     "start_time": "2020-08-23T03:54:15.481Z"
    }
   },
   "outputs": [
    {
     "data": {
      "text/html": [
       "<ol class=list-inline>\n",
       "\t<li>'Sepal.Length'</li>\n",
       "\t<li>'Sepal.Width'</li>\n",
       "\t<li>'Petal.Length'</li>\n",
       "\t<li>'Petal.Width'</li>\n",
       "\t<li>'Species'</li>\n",
       "</ol>\n"
      ],
      "text/latex": [
       "\\begin{enumerate*}\n",
       "\\item 'Sepal.Length'\n",
       "\\item 'Sepal.Width'\n",
       "\\item 'Petal.Length'\n",
       "\\item 'Petal.Width'\n",
       "\\item 'Species'\n",
       "\\end{enumerate*}\n"
      ],
      "text/markdown": [
       "1. 'Sepal.Length'\n",
       "2. 'Sepal.Width'\n",
       "3. 'Petal.Length'\n",
       "4. 'Petal.Width'\n",
       "5. 'Species'\n",
       "\n",
       "\n"
      ],
      "text/plain": [
       "[1] \"Sepal.Length\" \"Sepal.Width\"  \"Petal.Length\" \"Petal.Width\"  \"Species\"     "
      ]
     },
     "metadata": {},
     "output_type": "display_data"
    }
   ],
   "source": [
    "names(iris)"
   ]
  },
  {
   "cell_type": "markdown",
   "metadata": {},
   "source": [
    "# the names of the variables are 'Sepal.Length', 'Sepal.Width', 'Petal.Length', 'Petal.Width'  and the target variable is'Species'"
   ]
  },
  {
   "cell_type": "code",
   "execution_count": null,
   "metadata": {},
   "outputs": [],
   "source": []
  },
  {
   "cell_type": "markdown",
   "metadata": {},
   "source": [
    "# number of instances in each category or class"
   ]
  },
  {
   "cell_type": "code",
   "execution_count": 7,
   "metadata": {
    "ExecuteTime": {
     "end_time": "2020-08-23T03:54:16.489155Z",
     "start_time": "2020-08-23T03:54:16.439Z"
    }
   },
   "outputs": [
    {
     "data": {
      "text/plain": [
       "\n",
       "    setosa versicolor  virginica \n",
       "        50         50         50 "
      ]
     },
     "metadata": {},
     "output_type": "display_data"
    }
   ],
   "source": [
    "table(iris$Species)"
   ]
  },
  {
   "cell_type": "code",
   "execution_count": 8,
   "metadata": {
    "ExecuteTime": {
     "end_time": "2020-08-23T03:54:18.262198Z",
     "start_time": "2020-08-23T03:54:18.218Z"
    }
   },
   "outputs": [],
   "source": [
    "# recoding the variable names"
   ]
  },
  {
   "cell_type": "code",
   "execution_count": 9,
   "metadata": {
    "ExecuteTime": {
     "end_time": "2020-08-23T03:54:18.330194Z",
     "start_time": "2020-08-23T03:54:18.274Z"
    }
   },
   "outputs": [],
   "source": [
    "names(iris)<-c('Sepal_Length', 'Sepal_Width', 'Petal_Length' ,'Petal_Width', 'Species')"
   ]
  },
  {
   "cell_type": "code",
   "execution_count": 10,
   "metadata": {
    "ExecuteTime": {
     "end_time": "2020-08-23T03:54:19.003760Z",
     "start_time": "2020-08-23T03:54:18.937Z"
    }
   },
   "outputs": [],
   "source": [
    "save(iris,file = 'data/iris.csv')"
   ]
  },
  {
   "cell_type": "markdown",
   "metadata": {},
   "source": []
  },
  {
   "cell_type": "code",
   "execution_count": 11,
   "metadata": {
    "ExecuteTime": {
     "end_time": "2020-08-23T03:54:24.779579Z",
     "start_time": "2020-08-23T03:54:24.727Z"
    }
   },
   "outputs": [
    {
     "data": {
      "text/html": [
       "<table>\n",
       "<thead><tr><th scope=col>Sepal_Length</th><th scope=col>Sepal_Width</th><th scope=col>Petal_Length</th><th scope=col>Petal_Width</th><th scope=col>Species</th></tr></thead>\n",
       "<tbody>\n",
       "\t<tr><td>5.1   </td><td>3.5   </td><td>1.4   </td><td>0.2   </td><td>setosa</td></tr>\n",
       "\t<tr><td>4.9   </td><td>3.0   </td><td>1.4   </td><td>0.2   </td><td>setosa</td></tr>\n",
       "\t<tr><td>4.7   </td><td>3.2   </td><td>1.3   </td><td>0.2   </td><td>setosa</td></tr>\n",
       "</tbody>\n",
       "</table>\n"
      ],
      "text/latex": [
       "\\begin{tabular}{r|lllll}\n",
       " Sepal\\_Length & Sepal\\_Width & Petal\\_Length & Petal\\_Width & Species\\\\\n",
       "\\hline\n",
       "\t 5.1    & 3.5    & 1.4    & 0.2    & setosa\\\\\n",
       "\t 4.9    & 3.0    & 1.4    & 0.2    & setosa\\\\\n",
       "\t 4.7    & 3.2    & 1.3    & 0.2    & setosa\\\\\n",
       "\\end{tabular}\n"
      ],
      "text/markdown": [
       "\n",
       "Sepal_Length | Sepal_Width | Petal_Length | Petal_Width | Species | \n",
       "|---|---|---|\n",
       "| 5.1    | 3.5    | 1.4    | 0.2    | setosa | \n",
       "| 4.9    | 3.0    | 1.4    | 0.2    | setosa | \n",
       "| 4.7    | 3.2    | 1.3    | 0.2    | setosa | \n",
       "\n",
       "\n"
      ],
      "text/plain": [
       "  Sepal_Length Sepal_Width Petal_Length Petal_Width Species\n",
       "1 5.1          3.5         1.4          0.2         setosa \n",
       "2 4.9          3.0         1.4          0.2         setosa \n",
       "3 4.7          3.2         1.3          0.2         setosa "
      ]
     },
     "metadata": {},
     "output_type": "display_data"
    }
   ],
   "source": [
    "head(iris,3)"
   ]
  },
  {
   "cell_type": "markdown",
   "metadata": {},
   "source": [
    "# scatter plot of Sepal_width vrs Sepal_length'"
   ]
  },
  {
   "cell_type": "code",
   "execution_count": 12,
   "metadata": {
    "ExecuteTime": {
     "end_time": "2020-08-23T03:54:25.915868Z",
     "start_time": "2020-08-23T03:54:25.129Z"
    }
   },
   "outputs": [
    {
     "data": {
      "image/png": "[encoded data removed]",
      "text/plain": [
       "plot without title"
      ]
     },
     "metadata": {
      "image/png": {
       "height": 420,
       "width": 420
      },
      "text/plain": {
       "height": 420,
       "width": 420
      }
     },
     "output_type": "display_data"
    }
   ],
   "source": [
    "ggplot(iris,aes(x=Sepal_Length,y=Sepal_Width,colour = Species))+geom_point(size=3)+ggtitle('Sepal_width vrs Sepal_length')"
   ]
  },
  {
   "cell_type": "markdown",
   "metadata": {},
   "source": [
    "\n",
    "from the graph there sepal length and the sepal width of the Setosa is highly correlated but the correlation for Virginica and\n",
    "Versicolor is showhow less"
   ]
  },
  {
   "cell_type": "code",
   "execution_count": 13,
   "metadata": {
    "ExecuteTime": {
     "end_time": "2020-08-23T03:54:27.340451Z",
     "start_time": "2020-08-23T03:54:26.345Z"
    }
   },
   "outputs": [
    {
     "name": "stderr",
     "output_type": "stream",
     "text": [
      "`geom_smooth()` using method = 'loess' and formula 'y ~ x'\n",
      "\n"
     ]
    },
    {
     "data": {
      "image/png": "[encoded data removed]",
      "text/plain": [
       "plot without title"
      ]
     },
     "metadata": {
      "image/png": {
       "height": 420,
       "width": 420
      },
      "text/plain": {
       "height": 420,
       "width": 420
      }
     },
     "output_type": "display_data"
    }
   ],
   "source": [
    "ggplot(iris,aes(x=Petal_Length,y=Petal_Width,colour = Species))+geom_point(size=3,shape=15)+geom_smooth()+\n",
    "ggtitle('Petal_width vrs Petal_length')"
   ]
  },
  {
   "cell_type": "markdown",
   "metadata": {},
   "source": [
    "from the graph there petal length and the petall width of the Setosa, Virginica and Versicolor are highly correlated"
   ]
  },
  {
   "cell_type": "markdown",
   "metadata": {},
   "source": [
    "# MIN-Max normalization"
   ]
  },
  {
   "cell_type": "code",
   "execution_count": 14,
   "metadata": {
    "ExecuteTime": {
     "end_time": "2020-08-23T03:54:27.388450Z",
     "start_time": "2020-08-23T03:54:26.971Z"
    }
   },
   "outputs": [],
   "source": [
    "min_max<-function(x){\n",
    "  num<-x-min(x)\n",
    "  deno<-max(x)-min(x)\n",
    "  return(num/deno)\n",
    "  }"
   ]
  },
  {
   "cell_type": "code",
   "execution_count": 15,
   "metadata": {
    "ExecuteTime": {
     "end_time": "2020-08-23T03:54:27.448453Z",
     "start_time": "2020-08-23T03:54:27.324Z"
    }
   },
   "outputs": [],
   "source": [
    "normalized_iris<-as.data.frame(lapply(iris[1:4],min_max))"
   ]
  },
  {
   "cell_type": "code",
   "execution_count": 16,
   "metadata": {
    "ExecuteTime": {
     "end_time": "2020-08-23T03:54:27.727450Z",
     "start_time": "2020-08-23T03:54:27.673Z"
    }
   },
   "outputs": [
    {
     "data": {
      "text/html": [
       "<table>\n",
       "<thead><tr><th scope=col>Sepal_Length</th><th scope=col>Sepal_Width</th><th scope=col>Petal_Length</th><th scope=col>Petal_Width</th></tr></thead>\n",
       "<tbody>\n",
       "\t<tr><td>0.2222222 </td><td>0.6250000 </td><td>0.06779661</td><td>0.04166667</td></tr>\n",
       "\t<tr><td>0.1666667 </td><td>0.4166667 </td><td>0.06779661</td><td>0.04166667</td></tr>\n",
       "\t<tr><td>0.1111111 </td><td>0.5000000 </td><td>0.05084746</td><td>0.04166667</td></tr>\n",
       "</tbody>\n",
       "</table>\n"
      ],
      "text/latex": [
       "\\begin{tabular}{r|llll}\n",
       " Sepal\\_Length & Sepal\\_Width & Petal\\_Length & Petal\\_Width\\\\\n",
       "\\hline\n",
       "\t 0.2222222  & 0.6250000  & 0.06779661 & 0.04166667\\\\\n",
       "\t 0.1666667  & 0.4166667  & 0.06779661 & 0.04166667\\\\\n",
       "\t 0.1111111  & 0.5000000  & 0.05084746 & 0.04166667\\\\\n",
       "\\end{tabular}\n"
      ],
      "text/markdown": [
       "\n",
       "Sepal_Length | Sepal_Width | Petal_Length | Petal_Width | \n",
       "|---|---|---|\n",
       "| 0.2222222  | 0.6250000  | 0.06779661 | 0.04166667 | \n",
       "| 0.1666667  | 0.4166667  | 0.06779661 | 0.04166667 | \n",
       "| 0.1111111  | 0.5000000  | 0.05084746 | 0.04166667 | \n",
       "\n",
       "\n"
      ],
      "text/plain": [
       "  Sepal_Length Sepal_Width Petal_Length Petal_Width\n",
       "1 0.2222222    0.6250000   0.06779661   0.04166667 \n",
       "2 0.1666667    0.4166667   0.06779661   0.04166667 \n",
       "3 0.1111111    0.5000000   0.05084746   0.04166667 "
      ]
     },
     "metadata": {},
     "output_type": "display_data"
    }
   ],
   "source": [
    "head(normalized_iris,3)"
   ]
  },
  {
   "cell_type": "code",
   "execution_count": 17,
   "metadata": {
    "ExecuteTime": {
     "end_time": "2020-08-23T03:54:27.780452Z",
     "start_time": "2020-08-23T03:54:27.724Z"
    }
   },
   "outputs": [],
   "source": [
    "normalized_iris<-cbind(normalized_iris,iris[5])"
   ]
  },
  {
   "cell_type": "code",
   "execution_count": 18,
   "metadata": {
    "ExecuteTime": {
     "end_time": "2020-08-23T03:54:29.057277Z",
     "start_time": "2020-08-23T03:54:28.988Z"
    },
    "scrolled": true
   },
   "outputs": [
    {
     "data": {
      "text/html": [
       "<table>\n",
       "<thead><tr><th scope=col>Sepal_Length</th><th scope=col>Sepal_Width</th><th scope=col>Petal_Length</th><th scope=col>Petal_Width</th><th scope=col>Species</th></tr></thead>\n",
       "<tbody>\n",
       "\t<tr><td>0.2222222 </td><td>0.6250000 </td><td>0.06779661</td><td>0.04166667</td><td>setosa    </td></tr>\n",
       "\t<tr><td>0.1666667 </td><td>0.4166667 </td><td>0.06779661</td><td>0.04166667</td><td>setosa    </td></tr>\n",
       "\t<tr><td>0.1111111 </td><td>0.5000000 </td><td>0.05084746</td><td>0.04166667</td><td>setosa    </td></tr>\n",
       "</tbody>\n",
       "</table>\n"
      ],
      "text/latex": [
       "\\begin{tabular}{r|lllll}\n",
       " Sepal\\_Length & Sepal\\_Width & Petal\\_Length & Petal\\_Width & Species\\\\\n",
       "\\hline\n",
       "\t 0.2222222  & 0.6250000  & 0.06779661 & 0.04166667 & setosa    \\\\\n",
       "\t 0.1666667  & 0.4166667  & 0.06779661 & 0.04166667 & setosa    \\\\\n",
       "\t 0.1111111  & 0.5000000  & 0.05084746 & 0.04166667 & setosa    \\\\\n",
       "\\end{tabular}\n"
      ],
      "text/markdown": [
       "\n",
       "Sepal_Length | Sepal_Width | Petal_Length | Petal_Width | Species | \n",
       "|---|---|---|\n",
       "| 0.2222222  | 0.6250000  | 0.06779661 | 0.04166667 | setosa     | \n",
       "| 0.1666667  | 0.4166667  | 0.06779661 | 0.04166667 | setosa     | \n",
       "| 0.1111111  | 0.5000000  | 0.05084746 | 0.04166667 | setosa     | \n",
       "\n",
       "\n"
      ],
      "text/plain": [
       "  Sepal_Length Sepal_Width Petal_Length Petal_Width Species\n",
       "1 0.2222222    0.6250000   0.06779661   0.04166667  setosa \n",
       "2 0.1666667    0.4166667   0.06779661   0.04166667  setosa \n",
       "3 0.1111111    0.5000000   0.05084746   0.04166667  setosa "
      ]
     },
     "metadata": {},
     "output_type": "display_data"
    }
   ],
   "source": [
    "head(normalized_iris,3)"
   ]
  },
  {
   "cell_type": "markdown",
   "metadata": {},
   "source": [
    "# spliting the dataset into training and testing dataset with 30% for testing"
   ]
  },
  {
   "cell_type": "code",
   "execution_count": 19,
   "metadata": {
    "ExecuteTime": {
     "end_time": "2020-08-23T03:54:29.560184Z",
     "start_time": "2020-08-23T03:54:29.503Z"
    }
   },
   "outputs": [],
   "source": [
    "ind<-sample(2,nrow(normalized_iris),replace = TRUE,prob = c(0.7,0.3))"
   ]
  },
  {
   "cell_type": "code",
   "execution_count": 20,
   "metadata": {
    "ExecuteTime": {
     "end_time": "2020-08-23T03:54:29.636187Z",
     "start_time": "2020-08-23T03:54:29.573Z"
    }
   },
   "outputs": [],
   "source": [
    "iris_train<-normalized_iris[ind==1,1:4]\n",
    "y_train<-normalized_iris[ind==1,5]\n",
    "\n",
    "iris_test<-normalized_iris[ind==2,1:4]\n",
    "y_test<-normalized_iris[ind==2,5]"
   ]
  },
  {
   "cell_type": "markdown",
   "metadata": {},
   "source": [
    "# fitting KNN model with k=6"
   ]
  },
  {
   "cell_type": "code",
   "execution_count": 21,
   "metadata": {
    "ExecuteTime": {
     "end_time": "2020-08-23T03:54:30.203801Z",
     "start_time": "2020-08-23T03:54:30.156Z"
    }
   },
   "outputs": [],
   "source": [
    "k_nn<-knn(train = iris_train,test = iris_test,cl = y_train,k = 6)"
   ]
  },
  {
   "cell_type": "code",
   "execution_count": 22,
   "metadata": {
    "ExecuteTime": {
     "end_time": "2020-08-23T03:54:30.591802Z",
     "start_time": "2020-08-23T03:54:30.531Z"
    }
   },
   "outputs": [
    {
     "data": {
      "text/html": [
       "97.6744186046512"
      ],
      "text/latex": [
       "97.6744186046512"
      ],
      "text/markdown": [
       "97.6744186046512"
      ],
      "text/plain": [
       "[1] 97.67442"
      ]
     },
     "metadata": {},
     "output_type": "display_data"
    }
   ],
   "source": [
    "acc<-100*sum(y_test==k_nn)/length(y_test)\n",
    "acc"
   ]
  },
  {
   "cell_type": "markdown",
   "metadata": {
    "ExecuteTime": {
     "end_time": "2020-08-23T03:40:57.938237Z",
     "start_time": "2020-08-23T03:40:57.880Z"
    }
   },
   "source": [
    "# comparing the predicted class with the true class"
   ]
  },
  {
   "cell_type": "code",
   "execution_count": 23,
   "metadata": {
    "ExecuteTime": {
     "end_time": "2020-08-23T03:54:33.486471Z",
     "start_time": "2020-08-23T03:54:33.428Z"
    }
   },
   "outputs": [
    {
     "data": {
      "text/html": [
       "<ol class=list-inline>\n",
       "\t<li>TRUE</li>\n",
       "\t<li>TRUE</li>\n",
       "\t<li>TRUE</li>\n",
       "\t<li>TRUE</li>\n",
       "\t<li>TRUE</li>\n",
       "\t<li>TRUE</li>\n",
       "\t<li>TRUE</li>\n",
       "\t<li>TRUE</li>\n",
       "\t<li>TRUE</li>\n",
       "\t<li>TRUE</li>\n",
       "\t<li>TRUE</li>\n",
       "\t<li>TRUE</li>\n",
       "\t<li>TRUE</li>\n",
       "\t<li>TRUE</li>\n",
       "\t<li>TRUE</li>\n",
       "\t<li>TRUE</li>\n",
       "\t<li>TRUE</li>\n",
       "\t<li>TRUE</li>\n",
       "\t<li>TRUE</li>\n",
       "\t<li>TRUE</li>\n",
       "\t<li>TRUE</li>\n",
       "\t<li>TRUE</li>\n",
       "\t<li>TRUE</li>\n",
       "\t<li>TRUE</li>\n",
       "\t<li>TRUE</li>\n",
       "\t<li>TRUE</li>\n",
       "\t<li>TRUE</li>\n",
       "\t<li>TRUE</li>\n",
       "\t<li>TRUE</li>\n",
       "\t<li>TRUE</li>\n",
       "\t<li>TRUE</li>\n",
       "\t<li>TRUE</li>\n",
       "\t<li>TRUE</li>\n",
       "\t<li>TRUE</li>\n",
       "\t<li>FALSE</li>\n",
       "\t<li>TRUE</li>\n",
       "\t<li>TRUE</li>\n",
       "\t<li>TRUE</li>\n",
       "\t<li>TRUE</li>\n",
       "\t<li>TRUE</li>\n",
       "\t<li>TRUE</li>\n",
       "\t<li>TRUE</li>\n",
       "\t<li>TRUE</li>\n",
       "</ol>\n"
      ],
      "text/latex": [
       "\\begin{enumerate*}\n",
       "\\item TRUE\n",
       "\\item TRUE\n",
       "\\item TRUE\n",
       "\\item TRUE\n",
       "\\item TRUE\n",
       "\\item TRUE\n",
       "\\item TRUE\n",
       "\\item TRUE\n",
       "\\item TRUE\n",
       "\\item TRUE\n",
       "\\item TRUE\n",
       "\\item TRUE\n",
       "\\item TRUE\n",
       "\\item TRUE\n",
       "\\item TRUE\n",
       "\\item TRUE\n",
       "\\item TRUE\n",
       "\\item TRUE\n",
       "\\item TRUE\n",
       "\\item TRUE\n",
       "\\item TRUE\n",
       "\\item TRUE\n",
       "\\item TRUE\n",
       "\\item TRUE\n",
       "\\item TRUE\n",
       "\\item TRUE\n",
       "\\item TRUE\n",
       "\\item TRUE\n",
       "\\item TRUE\n",
       "\\item TRUE\n",
       "\\item TRUE\n",
       "\\item TRUE\n",
       "\\item TRUE\n",
       "\\item TRUE\n",
       "\\item FALSE\n",
       "\\item TRUE\n",
       "\\item TRUE\n",
       "\\item TRUE\n",
       "\\item TRUE\n",
       "\\item TRUE\n",
       "\\item TRUE\n",
       "\\item TRUE\n",
       "\\item TRUE\n",
       "\\end{enumerate*}\n"
      ],
      "text/markdown": [
       "1. TRUE\n",
       "2. TRUE\n",
       "3. TRUE\n",
       "4. TRUE\n",
       "5. TRUE\n",
       "6. TRUE\n",
       "7. TRUE\n",
       "8. TRUE\n",
       "9. TRUE\n",
       "10. TRUE\n",
       "11. TRUE\n",
       "12. TRUE\n",
       "13. TRUE\n",
       "14. TRUE\n",
       "15. TRUE\n",
       "16. TRUE\n",
       "17. TRUE\n",
       "18. TRUE\n",
       "19. TRUE\n",
       "20. TRUE\n",
       "21. TRUE\n",
       "22. TRUE\n",
       "23. TRUE\n",
       "24. TRUE\n",
       "25. TRUE\n",
       "26. TRUE\n",
       "27. TRUE\n",
       "28. TRUE\n",
       "29. TRUE\n",
       "30. TRUE\n",
       "31. TRUE\n",
       "32. TRUE\n",
       "33. TRUE\n",
       "34. TRUE\n",
       "35. FALSE\n",
       "36. TRUE\n",
       "37. TRUE\n",
       "38. TRUE\n",
       "39. TRUE\n",
       "40. TRUE\n",
       "41. TRUE\n",
       "42. TRUE\n",
       "43. TRUE\n",
       "\n",
       "\n"
      ],
      "text/plain": [
       " [1]  TRUE  TRUE  TRUE  TRUE  TRUE  TRUE  TRUE  TRUE  TRUE  TRUE  TRUE  TRUE\n",
       "[13]  TRUE  TRUE  TRUE  TRUE  TRUE  TRUE  TRUE  TRUE  TRUE  TRUE  TRUE  TRUE\n",
       "[25]  TRUE  TRUE  TRUE  TRUE  TRUE  TRUE  TRUE  TRUE  TRUE  TRUE FALSE  TRUE\n",
       "[37]  TRUE  TRUE  TRUE  TRUE  TRUE  TRUE  TRUE"
      ]
     },
     "metadata": {},
     "output_type": "display_data"
    }
   ],
   "source": [
    "k_nn==y_test"
   ]
  },
  {
   "cell_type": "markdown",
   "metadata": {},
   "source": [
    "# confusion matrix"
   ]
  },
  {
   "cell_type": "code",
   "execution_count": 24,
   "metadata": {
    "ExecuteTime": {
     "end_time": "2020-08-23T03:54:34.334545Z",
     "start_time": "2020-08-23T03:54:34.285Z"
    }
   },
   "outputs": [
    {
     "data": {
      "text/plain": [
       "            y_test\n",
       "k_nn         setosa versicolor virginica\n",
       "  setosa         16          0         0\n",
       "  versicolor      0         14         1\n",
       "  virginica       0          0        12"
      ]
     },
     "metadata": {},
     "output_type": "display_data"
    }
   ],
   "source": [
    "table(k_nn,y_test)"
   ]
  },
  {
   "cell_type": "code",
   "execution_count": 25,
   "metadata": {
    "ExecuteTime": {
     "end_time": "2020-08-23T03:54:37.394249Z",
     "start_time": "2020-08-23T03:54:37.266Z"
    }
   },
   "outputs": [
    {
     "data": {
      "text/plain": [
       "Confusion Matrix and Statistics\n",
       "\n",
       "            y_test\n",
       "k_nn         setosa versicolor virginica\n",
       "  setosa         16          0         0\n",
       "  versicolor      0         14         1\n",
       "  virginica       0          0        12\n",
       "\n",
       "Overall Statistics\n",
       "                                          \n",
       "               Accuracy : 0.9767          \n",
       "                 95% CI : (0.8771, 0.9994)\n",
       "    No Information Rate : 0.3721          \n",
       "    P-Value [Acc > NIR] : < 2.2e-16       \n",
       "                                          \n",
       "                  Kappa : 0.965           \n",
       "                                          \n",
       " Mcnemar's Test P-Value : NA              \n",
       "\n",
       "Statistics by Class:\n",
       "\n",
       "                     Class: setosa Class: versicolor Class: virginica\n",
       "Sensitivity                 1.0000            1.0000           0.9231\n",
       "Specificity                 1.0000            0.9655           1.0000\n",
       "Pos Pred Value              1.0000            0.9333           1.0000\n",
       "Neg Pred Value              1.0000            1.0000           0.9677\n",
       "Prevalence                  0.3721            0.3256           0.3023\n",
       "Detection Rate              0.3721            0.3256           0.2791\n",
       "Detection Prevalence        0.3721            0.3488           0.2791\n",
       "Balanced Accuracy           1.0000            0.9828           0.9615"
      ]
     },
     "metadata": {},
     "output_type": "display_data"
    }
   ],
   "source": [
    "confusionMatrix(table(k_nn,y_test))"
   ]
  },
  {
   "cell_type": "code",
   "execution_count": null,
   "metadata": {},
   "outputs": [],
   "source": []
  },
  {
   "cell_type": "code",
   "execution_count": null,
   "metadata": {},
   "outputs": [],
   "source": []
  }
 ],
 "metadata": {
  "kernelspec": {
   "display_name": "R",
   "language": "R",
   "name": "ir"
  },
  "language_info": {
   "codemirror_mode": "r",
   "file_extension": ".r",
   "mimetype": "text/x-r-source",
   "name": "R",
   "pygments_lexer": "r",
   "version": "3.5.2"
  }
 },
 "nbformat": 4,
 "nbformat_minor": 2
}
