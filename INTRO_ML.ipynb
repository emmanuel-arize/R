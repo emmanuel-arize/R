{
 "cells": [
  {
   "cell_type": "markdown",
   "metadata": {},
   "source": [
    "Let Represent the input variables by $ X \\in R^{n\\times p}$ and the target by $Y \\in R $. \n",
    "\n",
    "to predict Y using X we assume the is some relationship between  Y and X and this can be represented generally a function with noise defined as\n",
    "\n",
    "$$Y=f(X) +\\epsilon $$\n"
   ]
  },
  {
   "cell_type": "markdown",
   "metadata": {},
   "source": [
    "where $f$ is some fixed but unknown function of X and represents the systematic information that X provides about Y and we want to find \n",
    "\n",
    "a function $\\hat f$ that approximate the true function $f(X)$ as well as possible based on the observed data points ($f: R^{p} \\rightarrow R$).\n",
    "\n",
    "\\epsilon \\in R^{n}$ are the residuals, or the errors term with  approximately zero mean and indepedent of X.\n"
   ]
  },
  {
   "cell_type": "markdown",
   "metadata": {},
   "source": [
    "$$\\textbf{Why Estimate f?}$$\n",
    "\n",
    "There two main reasons for which we want to estimate f are prediction and inference. \n",
    "\n",
    "\n",
    "$$ \\textbf{Prediction}  $$\n",
    "\n",
    "In many situations, a set of inputs X are readily available, but the output Y cannot be easily obtained. In this setting, since the error term averages to zero, we can predict Y using\n",
    "\n",
    "$$ \\hat Y=\\hat f(X) $$\n",
    "\n",
    "where $\\hat f$ represents our estimate for f, and $\\hat Y$ represents the resulting prediction for Y\n",
    "\n",
    "\n",
    "The accuracy of $\\hat Y$ as a prediction for Y depends on two quantities,\n",
    "which we will call the $\\textbf{reducible error}$ and the $\\textbf{irreducible error}$\n",
    "\n",
    "$$\\textbf{reducible error}$$\n",
    "\n",
    "Depending on how well our data is preprocessed, the accuracy of the prediction also depends on the statistical learning technique $\\hat f$ used to estimate f.\n",
    "In general, $\\hat f$ will not be a perfect estimate for f but using the wrong technique will reduce the accuracy of the model. Since this error can be reduced with the appropriate selected technique this error is termed as reducible error\n",
    "\n",
    "$$\\textbf{irreducible error}$$\n",
    "\n",
    "even if it were possible to form a perfect estimate for f, so that our estimated response took the form $\\hat Y = f(X)$, our prediction would still have some error in it since Y is also a function $\\epsilon$ which, by definition, cannot be predicted using X. This error can resulted from many factors such as error in measuring instruments used in collecting the data. Therefore, variability associated with $\\epsilon$ also affects the accuracy of our predictions. This is known as the irreducible error, because even with a good statistical learning technique $\\hat f$ used to estimate f we cannot reduce the error introduced by $\\epsilon$"
   ]
  },
  {
   "cell_type": "markdown",
   "metadata": {},
   "source": [
    "<img src=\"images/va.jpg\">\n",
    "source: from the book An Introduction to Statistical\n",
    "Learning with Applications in R by Gareth James Daniela Witten Trevor Hastie Robert Tibshirani page 19\n"
   ]
  },
  {
   "cell_type": "markdown",
   "metadata": {},
   "source": [
    "$$E(Y-\\hat Y)^{2}=E [ (f(X)+\\epsilon - \\hat f(X))^{2} ]$$\n",
    "let $f(X)=f$ and $\\hat f(X)= \\hat f$\n",
    "\n",
    "$$=E [ (f - \\hat f)^{2} +2 \\epsilon(f- \\hat f) +\\epsilon ^{2}]  $$\n",
    "\n",
    "\n",
    "\n",
    "$$= E(f - \\hat f)^{2} +2 E(\\epsilon)(f- \\hat f) +E(\\epsilon ^{2})$$\n",
    "$$ =E(f - \\hat f)^{2}  +\\sigma^{2}$$\n",
    "# NOTE \n",
    "$E(\\epsilon )=0$  and $E(\\epsilon ^{2})= \\sigma^{2}$\n",
    "\n",
    "for a detail derivation read the document from wikipedia below"
   ]
  },
  {
   "cell_type": "markdown",
   "metadata": {},
   "source": [
    "<img src=\"images/bias_var1.jpg\">\n",
    "<img src=\"images/var2.jpg\">(source : [Bias–variance_tradeoff](https://en.wikipedia.org/wiki/Bias–variance_tradeoff))"
   ]
  },
  {
   "cell_type": "markdown",
   "metadata": {},
   "source": [
    "<h1> Inference</h1>\n",
    "Here we are interested in understanding how a change in X affect Y.  In this situation we wish to estimate f, but not necessarily to make predictions for Y but instead We want to understand the relationship between X and Y. we want to answer questions such as\n",
    "\n",
    "<h3>• Which predictors are associated with the response?</h3>\n",
    "<h3>• What is the relationship between the response and each predictor?</h3>\n",
    "<h3>• Can the relationship between Y and each predictor be adequately summarized using a linear equation, or is the relationship more complicated? </h3>\n",
    "\n",
    "so we do not treat $\\hat f$ as a black box\n"
   ]
  },
  {
   "cell_type": "markdown",
   "metadata": {},
   "source": [
    " most statistical learning methods can be characterized as either parametric or non-parametric"
   ]
  },
  {
   "cell_type": "markdown",
   "metadata": {},
   "source": [
    "\n",
    "<img src='images/par.jpg'>(source : from the book: Machine Learning A Probabilistic Perspective by Kevin P. Murphy Page 16)"
   ]
  },
  {
   "cell_type": "markdown",
   "metadata": {},
   "source": [
    "<h1>variance</h1>\n",
    "The variance is a measure of the average deviation of the measurements x from the expected value OR a measure of the spread of the values of the random variable around its expected value"
   ]
  },
  {
   "cell_type": "markdown",
   "metadata": {},
   "source": [
    "<img src=\"images/vars.jpg\">\n",
    "<h3 style='color:blue;'>source: from the book An Introduction to Statistical Learning with Applications in R by Gareth James Daniela Witten Trevor Hastie Robert Tibshirani page 34</h3>\n"
   ]
  },
  {
   "cell_type": "markdown",
   "metadata": {},
   "source": [
    "<h1>BIAS</h1>\n",
    "<h2>The bias term is the difference between the expected value of the estimate $\\hat f$ and f</h1>"
   ]
  },
  {
   "cell_type": "code",
   "execution_count": null,
   "metadata": {},
   "outputs": [],
   "source": []
  },
  {
   "cell_type": "code",
   "execution_count": null,
   "metadata": {},
   "outputs": [],
   "source": []
  },
  {
   "cell_type": "code",
   "execution_count": null,
   "metadata": {},
   "outputs": [],
   "source": []
  }
 ],
 "metadata": {
  "kernelspec": {
   "display_name": "R",
   "language": "R",
   "name": "ir"
  },
  "language_info": {
   "codemirror_mode": "r",
   "file_extension": ".r",
   "mimetype": "text/x-r-source",
   "name": "R",
   "pygments_lexer": "r",
   "version": "3.5.2"
  },
  "latex_envs": {
   "LaTeX_envs_menu_present": true,
   "autoclose": false,
   "autocomplete": true,
   "bibliofile": "biblio.bib",
   "cite_by": "apalike",
   "current_citInitial": 1,
   "eqLabelWithNumbers": true,
   "eqNumInitial": 1,
   "hotkeys": {
    "equation": "Ctrl-E",
    "itemize": "Ctrl-I"
   },
   "labels_anchors": false,
   "latex_user_defs": false,
   "report_style_numbering": false,
   "user_envs_cfg": false
  }
 },
 "nbformat": 4,
 "nbformat_minor": 2
}
